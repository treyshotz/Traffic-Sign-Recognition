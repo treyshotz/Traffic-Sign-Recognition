{
 "cells": [
  {
   "cell_type": "markdown",
   "metadata": {
    "collapsed": false,
    "pycharm": {
     "name": "#%% md\n"
    }
   },
   "source": [
    "Things to do\n",
    "- Preprocess images\n",
    "- Load images\n",
    "- Set up data for training\n",
    "- Set up feature learning\n",
    "- Add classification\n",
    "- Receive video feed\n",
    "- Process video feed\n",
    "\n"
   ]
  },
  {
   "cell_type": "code",
   "execution_count": 75,
   "metadata": {
    "collapsed": false,
    "pycharm": {
     "name": "#%%\n"
    }
   },
   "outputs": [],
   "source": [
    "import os\n",
    "\n",
    "import keras\n",
    "import matplotlib.pyplot as plt\n",
    "import numpy as np\n",
    "from tensorflow.keras.preprocessing.image import img_to_array, load_img\n",
    "from tensorflow.keras.utils import to_categorical\n",
    "\n"
   ]
  },
  {
   "cell_type": "markdown",
   "metadata": {},
   "source": [
    "### Setting the path to the dataset"
   ]
  },
  {
   "cell_type": "code",
   "execution_count": 76,
   "metadata": {},
   "outputs": [
    {
     "name": "stdout",
     "output_type": "stream",
     "text": [
      "['predictionTest', 'Train.csv', 'Test', 'test', 'meta', 'TestWithDirs', 'train', 'Meta', 'Meta.csv', 'Test.csv', 'Train']\n"
     ]
    }
   ],
   "source": [
    "\n",
    "import pathlib\n",
    "\n",
    "data_dir = pathlib.Path(\"../kaggle/\")\n",
    "train_path = f\"{data_dir}/Train/\"\n",
    "test_path = f\"{data_dir}/\"\n",
    "print(os.listdir(data_dir))"
   ]
  },
  {
   "cell_type": "markdown",
   "metadata": {},
   "source": [
    "### Creating the dataset\n",
    "\n",
    "##### About the dataset\n",
    "We chose to split the test folder into 80% for testing and 20% for validation\n"
   ]
  },
  {
   "cell_type": "code",
   "execution_count": 77,
   "metadata": {
    "pycharm": {
     "name": "#%%\n"
    }
   },
   "outputs": [],
   "source": [
    "#TODO: We should consider trying out different batch sizes\n",
    "import tensorflow as tf\n",
    "\n",
    "data = []\n",
    "labels = []\n",
    "\n",
    "batch_size = 30\n",
    "img_height = 32\n",
    "img_width = 32\n",
    "img_size = (img_height, img_width)\n",
    "epochs = 15\n",
    "\n",
    "class_names = {0: 'Speed limit (20km/h)',\n",
    "               1: 'Speed limit (30km/h)',\n",
    "               2: 'Speed limit (50km/h)',\n",
    "               3: 'Speed limit (60km/h)',\n",
    "               4: 'Speed limit (70km/h)',\n",
    "               5: 'Speed limit (80km/h)',\n",
    "               6: 'End of speed limit (80km/h)',\n",
    "               7: 'Speed limit (100km/h)',\n",
    "               8: 'Speed limit (120km/h)',\n",
    "               9: 'No passing',\n",
    "               10: 'No passing veh over 3.5 tons',\n",
    "               11: 'Right-of-way at intersection',\n",
    "               12: 'Priority road',\n",
    "               13: 'Yield',\n",
    "               14: 'Stop',\n",
    "               15: 'No vehicles',\n",
    "               16: 'Veh > 3.5 tons prohibited',\n",
    "               17: 'No entry',\n",
    "               18: 'General caution',\n",
    "               19: 'Dangerous curve left',\n",
    "               20: 'Dangerous curve right',\n",
    "               21: 'Double curve',\n",
    "               22: 'Bumpy road',\n",
    "               23: 'Slippery road',\n",
    "               24: 'Road narrows on the right',\n",
    "               25: 'Road work',\n",
    "               26: 'Traffic signals',\n",
    "               27: 'Pedestrians',\n",
    "               28: 'Children crossing',\n",
    "               29: 'Bicycles crossing',\n",
    "               30: 'Beware of ice/snow',\n",
    "               31: 'Wild animals crossing',\n",
    "               32: 'End speed + passing limits',\n",
    "               33: 'Turn right ahead',\n",
    "               34: 'Turn left ahead',\n",
    "               35: 'Ahead only',\n",
    "               36: 'Go straight or right',\n",
    "               37: 'Go straight or left',\n",
    "               38: 'Keep right',\n",
    "               39: 'Keep left',\n",
    "               40: 'Roundabout mandatory',\n",
    "               41: 'End of no passing',\n",
    "               42: 'End no passing veh > 3.5 tons'}\n",
    "\n",
    "# train_ds = tf.keras.utils.image_dataset_from_directory(\n",
    "#     \"./../kaggle/Train/\",\n",
    "#     validation_split=0.2,\n",
    "#     subset=\"training\",\n",
    "#     seed=505,\n",
    "#     image_size=img_size,\n",
    "#     shuffle=True,\n",
    "#     batch_size=batch_size\n",
    "# )\n",
    "\n",
    "# validation_ds = tf.keras.utils.image_dataset_from_directory(\n",
    "#     \"./../kaggle/Train/\",\n",
    "#     validation_split=0.2,\n",
    "#     subset=\"validation\",\n",
    "#     seed=505,\n",
    "#     shuffle=True,\n",
    "#     image_size=img_size,\n",
    "#     batch_size=batch_size\n",
    "# )\n",
    "\n",
    "# print(validation_ds)\n",
    "#\n",
    "# num_classes = len(train_ds.class_names)\n",
    "# class_names = train_ds.class_names\n",
    "\n",
    "num_categories = len(os.listdir(train_path))\n",
    "trimmed_dataset = []\n",
    "\n",
    "def load_data(data_dir):\n",
    "    images = list()\n",
    "    labels = list()\n",
    "    for category in range(num_categories):\n",
    "        categories = os.path.join(data_dir, str(category))\n",
    "        size = 0\n",
    "        # pos = 0\n",
    "        # sub_imgs = os.listdir(categories)\n",
    "        # while size < len(sub_imgs) and size < 500:\n",
    "        #     size+=1\n",
    "        #     jmp = np.random.randint(1, 3)\n",
    "        #     pos = (jmp * pos) % len(sub_imgs)\n",
    "        #     rand_img = sub_imgs[pos]\n",
    "        #     img = load_img(os.path.join(categories, rand_img), target_size=img_size)\n",
    "        #     image_arr = img_to_array(img)\n",
    "        #     images.append(image_arr)\n",
    "        #     labels.append(category)\n",
    "        # trimmed_dataset.append(size)\n",
    "\n",
    "        for img in os.listdir(categories):\n",
    "            size+=1\n",
    "            if size > 500:\n",
    "                break\n",
    "            img = load_img(os.path.join(categories, img), target_size=img_size)\n",
    "            image = img_to_array(img)\n",
    "            images.append(image)\n",
    "            labels.append(category)\n",
    "    return images, labels\n",
    "\n",
    "# import matplotlib.pyplot as plt\n",
    "# For visualizing images in one batch\n",
    "# plt.figure(figsize=(10, 10))\n",
    "# for images, labels in train_ds.take(1):\n",
    "#     for i in range(32):\n",
    "#         ax = plt.subplot(15, 3, i + 1)\n",
    "#         plt.imshow(images[i].numpy().astype(\"uint8\"))\n",
    "#         plt.title(train_ds.class_names[labels[i]])\n",
    "#         plt.axis(\"off\")\n",
    "#\n"
   ]
  },
  {
   "cell_type": "markdown",
   "source": [
    "#### Plotting the amount of different data from the original dataset"
   ],
   "metadata": {
    "collapsed": false
   }
  },
  {
   "cell_type": "code",
   "execution_count": 78,
   "outputs": [
    {
     "data": {
      "text/plain": "<Figure size 432x288 with 1 Axes>",
      "image/png": "[encoded data removed]"
     },
     "metadata": {},
     "output_type": "display_data"
    },
    {
     "name": "stdout",
     "output_type": "stream",
     "text": [
      "[ 0 37 32 27 41 19 40 39 29 24 20 21 42 36 34 22 30 28 23  6 16 26 15 33\n",
      " 31]\n"
     ]
    }
   ],
   "source": [
    "arr = []\n",
    "for i in range(0, 43):\n",
    "    _, _, files = next(os.walk(f\"../kaggle/TestWithDirs/{i}/\"))\n",
    "    arr.append(len(files))\n",
    "\n",
    "plt.style.use('ggplot')\n",
    "x_pos = [i for i, _ in enumerate(class_names)]\n",
    "plt.bar(x_pos, arr, color=\"blue\")\n",
    "plt.xlabel(\"Class name\")\n",
    "plt.ylabel(\"Score\")\n",
    "plt.show()\n",
    "twentyfive_lowest = np.argsort(arr)[:25]\n",
    "print(twentyfive_lowest)\n",
    "\n",
    "\n"
   ],
   "metadata": {
    "collapsed": false,
    "pycharm": {
     "name": "#%%\n"
    }
   }
  },
  {
   "cell_type": "code",
   "execution_count": null,
   "outputs": [],
   "source": [
    "from sklearn.model_selection import train_test_split\n",
    "\n",
    "\n",
    "images, labels = load_data(train_path)\n",
    "print(len(images))\n",
    "print(trimmed_dataset)\n",
    "# One hot encoding the labels\n",
    "labels = to_categorical(labels)\n",
    "\n",
    "# Splitting the dataset into training and test set\n",
    "x_train, x_val, y_train, y_val = train_test_split(np.array(images), labels, test_size=0.2)\n",
    "print(len(x_train))\n",
    "print(len(x_val))\n",
    "print(np.array(images).shape)"
   ],
   "metadata": {
    "collapsed": false,
    "pycharm": {
     "name": "#%%\n",
     "is_executing": true
    }
   }
  },
  {
   "cell_type": "markdown",
   "source": [
    "#### Plotting the amount of data after trimming the dataset"
   ],
   "metadata": {
    "collapsed": false
   }
  },
  {
   "cell_type": "code",
   "execution_count": null,
   "outputs": [],
   "source": [
    "plt.style.use('ggplot')\n",
    "x_pos = [i for i, _ in enumerate(class_names)]\n",
    "plt.bar(x_pos, trimmed_dataset, color=\"green\")\n",
    "plt.xlabel(\"Class name\")\n",
    "plt.ylabel(\"Score\")\n",
    "plt.show()\n",
    "twentyfive_lowest = np.argsort(arr)[:25]\n",
    "\n"
   ],
   "metadata": {
    "collapsed": false,
    "pycharm": {
     "name": "#%%\n",
     "is_executing": true
    }
   }
  },
  {
   "cell_type": "markdown",
   "source": [
    "#### Preprocessing images"
   ],
   "metadata": {
    "collapsed": false,
    "pycharm": {
     "name": "#%% md\n"
    }
   }
  },
  {
   "cell_type": "code",
   "execution_count": null,
   "outputs": [],
   "source": [
    "\n",
    "from skimage.color import rgb2gray\n",
    "from cv2 import cv2\n",
    "\n",
    "\n",
    "def augment_imgs(imgs, p):\n",
    "    \"\"\"\n",
    "    Performs a set of augmentations with with a probability p\n",
    "    \"\"\"\n",
    "    from imgaug import augmenters as iaa\n",
    "    augs =  iaa.SomeOf((2, 4),\n",
    "          [\n",
    "              iaa.Crop(px=(0, 4)), # crop images from each side by 0 to 4px (randomly chosen)\n",
    "              iaa.Affine(scale={\"x\": (0.8, 1.2), \"y\": (0.8, 1.2)}),\n",
    "              iaa.Affine(translate_percent={\"x\": (-0.2, 0.2), \"y\": (-0.2, 0.2)}),\n",
    "              iaa.Affine(rotate=(-45, 45)), # rotate by -45 to +45 degrees)\n",
    "              iaa.Affine(shear=(-10, 10)) # shear by -10 to +10 degrees\n",
    "          ])\n",
    "\n",
    "    seq = iaa.Sequential([iaa.Sometimes(p, augs)])\n",
    "    res = seq.augment_images(imgs)\n",
    "    return res\n",
    "\n",
    "#plt.imshow(images[0])\n",
    "#x_train = augment_imgs(x_train, 1)\n",
    "# x_val = augment_imgs(x_val, 1)\n",
    "\n",
    "#x_train = rgb2gray(x_train)\n",
    "\n",
    "plt.imshow(x_train[0])\n"
   ],
   "metadata": {
    "collapsed": false,
    "pycharm": {
     "name": "#%%\n",
     "is_executing": true
    }
   }
  },
  {
   "cell_type": "markdown",
   "source": [
    "### Setting up performance"
   ],
   "metadata": {
    "collapsed": false
   }
  },
  {
   "cell_type": "code",
   "execution_count": null,
   "outputs": [],
   "source": [
    "AUTOTUNE = tf.data.AUTOTUNE\n",
    "\n",
    "#train_ds = train_ds.cache().prefetch(buffer_size=AUTOTUNE)\n",
    "#validation_ds = validation_ds.cache().prefetch(buffer_size=AUTOTUNE)"
   ],
   "metadata": {
    "collapsed": false,
    "pycharm": {
     "name": "#%%\n",
     "is_executing": true
    }
   }
  },
  {
   "cell_type": "markdown",
   "source": [
    "### Training the model"
   ],
   "metadata": {
    "collapsed": false,
    "pycharm": {
     "name": "#%% md\n"
    }
   }
  },
  {
   "cell_type": "code",
   "execution_count": null,
   "outputs": [],
   "source": [
    "data_augmentation = keras.Sequential(\n",
    "    [\n",
    "        tf.keras.layers.RandomFlip(\"horizontal\",\n",
    "                                   input_shape=(img_height,\n",
    "                                                img_width,\n",
    "                                                3)),\n",
    "        tf.keras.layers.RandomRotation(0.1),\n",
    "        tf.keras.layers.RandomZoom(0.1),\n",
    "    ]\n",
    ")\n",
    "\n",
    "from keras.layers import Conv2D, MaxPool2D, Dense, Flatten, Dropout, BatchNormalization, Activation, MaxPooling2D\n",
    "\n",
    "validation_ds = (x_val, y_val)\n",
    "\n",
    "\n",
    "model = tf.keras.Sequential()\n",
    "model.add(data_augmentation)\n",
    "model.add(Conv2D(filters=32, kernel_size=(5, 5), activation='relu'))\n",
    "model.add(Conv2D(filters=64, kernel_size=(3, 3), activation='relu'))\n",
    "model.add(MaxPool2D(pool_size=(2, 2)))\n",
    "model.add(Dropout(rate=0.25))\n",
    "model.add(Conv2D(filters=64, kernel_size=(3, 3), activation='relu'))\n",
    "model.add(MaxPool2D(pool_size=(2, 2)))\n",
    "model.add(Dropout(rate=0.25))\n",
    "model.add(Flatten())\n",
    "model.add(Dense(128, activation='relu'))\n",
    "model.add(Dropout(rate=0.5))\n",
    "model.add(Dense(num_categories, activation='softmax'))\n",
    "\n",
    "\n",
    "# model = tf.keras.Sequential([\n",
    "#     data_augmentation,\n",
    "#     tf.keras.layers.Rescaling(1.0 / 255),\n",
    "#     tf.keras.layers.Conv2D(32, 3, activation='relu'),\n",
    "#     tf.keras.layers.\n",
    "#     tf.keras.layers.MaxPooling2D(),\n",
    "#     tf.keras.layers.Conv2D(32, 3, activation='relu'),\n",
    "#     tf.keras.layers.MaxPooling2D(),\n",
    "#     tf.keras.layers.Dropout(rate=.3),\n",
    "#     tf.keras.layers.Conv2D(32, 3, activation='relu'),\n",
    "#     tf.keras.layers.MaxPooling2D(),\n",
    "#     tf.keras.layers.Flatten(),\n",
    "#     tf.keras.layers.Dense(720, activation='relu'),\n",
    "#     tf.keras.layers.Dropout(rate=.5),\n",
    "#     tf.keras.layers.Dense(num_categories, activation='softmax')\n",
    "# ])\n",
    "\n",
    "\n",
    "model.compile(\n",
    "    optimizer='adam',\n",
    "    loss='categorical_crossentropy',\n",
    "    #loss=tf.losses.SparseCategoricalCrossentropy(from_logits=True),\n",
    "    # metrics=[tf.keras.metrics.SparseCategoricalAccuracy()],\n",
    "    metrics=['accuracy']\n",
    ")\n",
    "\n",
    "history = model.fit(\n",
    "    x_train,\n",
    "    y_train,\n",
    "    validation_data=validation_ds,\n",
    "    epochs=epochs,\n",
    "    use_multiprocessing=True,\n",
    "    workers=4\n",
    ")"
   ],
   "metadata": {
    "collapsed": false,
    "pycharm": {
     "name": "#%%\n",
     "is_executing": true
    }
   }
  },
  {
   "cell_type": "markdown",
   "source": [
    "### Visualize the training"
   ],
   "metadata": {
    "collapsed": false,
    "pycharm": {
     "name": "#%% md\n"
    }
   }
  },
  {
   "cell_type": "code",
   "execution_count": null,
   "outputs": [],
   "source": [
    "\n",
    "acc = history.history['accuracy']\n",
    "val_acc = history.history['val_accuracy']\n",
    "\n",
    "loss = history.history['loss']\n",
    "val_loss = history.history['val_loss']\n",
    "\n",
    "epochs_range = range(epochs)\n",
    "\n",
    "plt.figure(figsize=(8, 8))\n",
    "plt.subplot(1, 2, 1)\n",
    "plt.plot(epochs_range, acc, label='Training Accuracy')\n",
    "plt.plot(epochs_range, val_acc, label='Validation Accuracy')\n",
    "plt.legend(loc='lower right')\n",
    "plt.title('Training and Validation Accuracy')\n",
    "\n",
    "plt.subplot(1, 2, 2)\n",
    "plt.plot(epochs_range, loss, label='Training Loss')\n",
    "plt.plot(epochs_range, val_loss, label='Validation Loss')\n",
    "plt.legend(loc='upper right')\n",
    "plt.title('Training and Validation Loss')\n",
    "plt.show()"
   ],
   "metadata": {
    "collapsed": false,
    "pycharm": {
     "name": "#%%\n",
     "is_executing": true
    }
   }
  },
  {
   "cell_type": "markdown",
   "source": [
    "### Testing/Evaluating the model\n"
   ],
   "metadata": {
    "collapsed": false,
    "pycharm": {
     "name": "#%% md\n"
    }
   }
  },
  {
   "cell_type": "markdown",
   "source": [
    "#### Predicting the trained model"
   ],
   "metadata": {
    "collapsed": false,
    "pycharm": {
     "name": "#%% md\n"
    }
   }
  },
  {
   "cell_type": "code",
   "execution_count": null,
   "outputs": [],
   "source": [
    "import os\n",
    "from keras_preprocessing.image import load_img\n",
    "\n",
    "wrong_guesses_names = []\n",
    "wrong_guesses_index = []\n",
    "\n",
    "for i in range(0, 43):\n",
    "    img = tf.keras.preprocessing.image.load_img(f\"../kaggle/meta/{i}.png\", target_size=img_size)\n",
    "    input_arr = tf.keras.preprocessing.image.img_to_array(img)\n",
    "    #input_arr = np.expand_dims(input_arr, axis=0)\n",
    "    input_arr = np.array([input_arr])  # Convert single image to a batch.\n",
    "\n",
    "    predict = model.predict(input_arr)\n",
    "    score = tf.nn.softmax(predict[0])\n",
    "\n",
    "    # plt.style.use('ggplot')\n",
    "    # x_pos = [i for i, _ in enumerate(class_names)]\n",
    "    # plt.bar(class_names.values(), score, color=\"green\")\n",
    "    # plt.xlabel(\"Class name\")\n",
    "    # plt.xticks(rotation='vertical')\n",
    "    # plt.ylabel(\"Score\")\n",
    "    # plt.title(f\"Test on: {class_names[i]}, guess: {class_names[np.argmax(score)]}\")\n",
    "    # plt.figtext(0, 0, f\"Probability:{100 * np.max(score)}\")\n",
    "    # plt.show()\n",
    "\n",
    "    if (i != np.argmax(score)):\n",
    "        wrong_guesses_names.append(class_names[i])\n",
    "        wrong_guesses_index.append(i)\n",
    "\n",
    "    # print(\n",
    "    #      \"This image most likely belongs to {} with a {:.2f} percent confidence.\"\n",
    "    #         .format(class_names[np.argmax(score)], 100 * np.max(score))\n",
    "    # )\n",
    "    # print(sum(score))\n",
    "\n",
    "print(wrong_guesses_names)\n",
    "print(wrong_guesses_index)\n",
    "print(len(wrong_guesses_names))"
   ],
   "metadata": {
    "collapsed": false,
    "pycharm": {
     "name": "#%%\n",
     "is_executing": true
    }
   }
  },
  {
   "cell_type": "markdown",
   "source": [
    "### Finding correlation between wrong guesses\n",
    "\n",
    "We have noticed that even though we are getting pretty good accuracy during training, we are still stuggeling to predict images from meta.\n",
    "We therefore take a look at the images with the lowest amount of training data."
   ],
   "metadata": {
    "collapsed": false,
    "pycharm": {
     "name": "#%% md\n"
    }
   }
  },
  {
   "cell_type": "code",
   "execution_count": null,
   "outputs": [],
   "source": [
    "s1 = set(wrong_guesses_index)\n",
    "intersection = s1.intersection(twentyfive_lowest)\n",
    "print(len(intersection))\n",
    "print(intersection)\n",
    "\n"
   ],
   "metadata": {
    "collapsed": false,
    "pycharm": {
     "name": "#%%\n",
     "is_executing": true
    }
   }
  },
  {
   "cell_type": "code",
   "execution_count": null,
   "outputs": [],
   "source": [
    "from sklearn.metrics import accuracy_score\n",
    "import pandas as pd\n",
    "\n",
    "y_test = pd.read_csv(\"../kaggle/\" + 'Test.csv')\n",
    "test_labels = y_test[\"ClassId\"].values\n",
    "test_images = y_test[\"Path\"].values\n",
    "\n",
    "test_labels = np.array(test_labels).astype(np.float)\n",
    "\n",
    "output = list()\n",
    "for img in test_images:\n",
    "    image = load_img(os.path.join(\"../kaggle/\", img), target_size=img_size)\n",
    "    output.append(np.array(image))\n",
    "\n",
    "x_test = np.array(output)\n",
    "prediction = model.predict(x_test, verbose=1)\n",
    "\n",
    "# Convert tests labels in single-digits instead of one-hot encoding\n",
    "Y_pred = np.argmax(prediction, axis=1)\n",
    "\n",
    "#Accuracy with the test data\n",
    "print('Test data accuracy: ', accuracy_score(test_labels, Y_pred) * 100)"
   ],
   "metadata": {
    "collapsed": false,
    "pycharm": {
     "name": "#%%\n",
     "is_executing": true
    }
   }
  },
  {
   "cell_type": "code",
   "execution_count": null,
   "outputs": [],
   "source": [
    "model.save(\"../model.h5\")\n"
   ],
   "metadata": {
    "collapsed": false,
    "pycharm": {
     "name": "#%%\n",
     "is_executing": true
    }
   }
  }
 ],
 "metadata": {
  "kernelspec": {
   "display_name": "Python 3",
   "language": "python",
   "name": "python3"
  },
  "language_info": {
   "codemirror_mode": {
    "name": "ipython",
    "version": 3
   },
   "file_extension": ".py",
   "mimetype": "text/x-python",
   "name": "python",
   "nbconvert_exporter": "python",
   "pygments_lexer": "ipython3",
   "version": "3.9.7"
  }
 },
 "nbformat": 4,
 "nbformat_minor": 0
}